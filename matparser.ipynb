{
 "cells": [
  {
   "cell_type": "code",
   "execution_count": 1,
   "metadata": {},
   "outputs": [],
   "source": [
    "import xml.etree.ElementTree as gfg \n",
    "  \n",
    "  \n",
    "def GenerateXML(fileName) :\n",
    "      \n",
    "    root = gfg.Element(\"Catalog\")\n",
    "      \n",
    "    m1 = gfg.Element(\"mobile\")\n",
    "    root.append (m1)\n",
    "      \n",
    "    b1 = gfg.SubElement(m1, \"brand\")\n",
    "    b1.text = \"Redmi\"\n",
    "    b2 = gfg.SubElement(m1, \"price\")\n",
    "    b2.text = \"6999\"\n",
    "      \n",
    "    m2 = gfg.Element(\"mobile\")\n",
    "    root.append (m2)\n",
    "      \n",
    "    c1 = gfg.SubElement(m2, \"brand\")\n",
    "    c1.text = \"Samsung\"\n",
    "    c2 = gfg.SubElement(m2, \"price\")\n",
    "    c2.text = \"9999\"\n",
    "      \n",
    "    m3 = gfg.Element(\"mobile\")\n",
    "    root.append (m3)\n",
    "      \n",
    "    d1 = gfg.SubElement(m3, \"brand\")\n",
    "    d1.text = \"RealMe\"\n",
    "    d2 = gfg.SubElement(m3, \"price\")\n",
    "    d2.text = \"11999\"\n",
    "      \n",
    "    tree = gfg.ElementTree(root)\n",
    "      \n",
    "    with open (fileName, \"wb\") as files :\n",
    "        tree.write(files)\n",
    "  \n",
    "# Driver Code\n",
    "if __name__ == \"__main__\": \n",
    "    GenerateXML(\"Catalog.xml\")\n"
   ]
  },
  {
   "cell_type": "code",
   "execution_count": 54,
   "metadata": {},
   "outputs": [],
   "source": [
    "import pandas as pd\n",
    "import os\n",
    "import xml.etree.ElementTree as eltree\n",
    "\n",
    "df = pd.read_csv('./image-label.csv')\n",
    "DIRECTORY_NAME = os.path.basename(os.getcwd())\n",
    "FULL_PATH = os.path.abspath(os.getcwd())\n",
    "ROOT_ELEM = eltree.Element(\"Main\")\n",
    "FOLDER_NAME_ELEM = eltree.Element(\"folder\")\n",
    "FULL_PATH_ELEM = eltree.Element(\"path\")\n",
    "SOURCE_ELEM = eltree.Element(\"source\")\n",
    "SIZE_ELEM = eltree.Element(\"size\")\n",
    "SEGMENTED_ELEM = eltree.Element(\"segmented\")\n",
    "OBJECT_ELEM = eltree.Element(\"object\")\n",
    "BOUNDING_BOX_ELEM = eltree.Element(\"bndbox\")\n",
    "\n",
    "for index, row in df.iterrows():\n",
    "\n",
    "    file_name = row['path']\n",
    "\n",
    "    ROOT_ELEM.append(FOLDER_NAME_ELEM)\n",
    "    ROOT_ELEM.append(FILE_NAME_ELEM)\n",
    "    ROOT_ELEM.append(FULL_PATH_ELEM)\n",
    "    ROOT_ELEM.append(SOURCE_ELEM)\n",
    "    ROOT_ELEM.append(SIZE_ELEM)\n",
    "    ROOT_ELEM.append(SEGMENTED_ELEM)\n",
    "    ROOT_ELEM.append(OBJECT_ELEM)\n",
    "    FOLDER_NAME_ELEM.text = DIRECTORY_NAME\n",
    "    FILE_NAME_ELEM = eltree.Element(\"filename\")\n",
    "    FILE_NAME_ELEM.text = file_name\n",
    "    FULL_PATH_ELEM.text = FULL_PATH\n",
    "    DATABASE_ELEM = eltree.SubElement(SOURCE_ELEM, \"database\")\n",
    "    DATABASE_ELEM.text = \"Unknown\"\n",
    "    WIDTH_ELEM = eltree.SubElement(SIZE_ELEM, \"width\")\n",
    "    HEIGHT_ELEM = eltree.SubElement(SIZE_ELEM, \"height\")\n",
    "    DEPTH_ELEM = eltree.SubElement(SIZE_ELEM, \"depth\")\n",
    "    SEGMENTED_ELEM.text = \"0\"\n",
    "    NAME_SUB_ELEM = eltree.SubElement(OBJECT_ELEM, \"name\")\n",
    "    NAME_SUB_ELEM.text = row['class_name']\n",
    "    POSE_SUB_ELEM = eltree.SubElement(OBJECT_ELEM, \"pose\")\n",
    "    POSE_SUB_ELEM.text = 'unspecified'\n",
    "    TRUNCATED_SUB_ELEM = eltree.SubElement(OBJECT_ELEM, \"truncated\")\n",
    "    TRUNCATED_SUB_ELEM.text = '0'\n",
    "    DIFFICULT_SUB_ELEM = eltree.SubElement(OBJECT_ELEM, \"difficult\")\n",
    "    DIFFICULT_SUB_ELEM.text = '0'\n",
    "    BOUNDING_BOX_ELEM = eltree.SubElement(OBJECT_ELEM, \"bndbox\")\n",
    "    X_MIN = eltree.SubElement(BOUNDING_BOX_ELEM, \"xmin\")\n",
    "    Y_MIN = eltree.SubElement(BOUNDING_BOX_ELEM, \"ymin\")\n",
    "    X_MAX = eltree.SubElement(BOUNDING_BOX_ELEM, \"xmax\")\n",
    "    Y_MAX = eltree.SubElement(BOUNDING_BOX_ELEM, \"ymax\")\n",
    "    X_MIN.text = str(row['x1'])\n",
    "    Y_MIN.text = str(row['y1'])\n",
    "    X_MAX.text = str(row['x2'])\n",
    "    Y_MAX.text = str(row['y2'])\n",
    "    tree = eltree.ElementTree(ROOT_ELEM)\n",
    "\n",
    "    with open(os.path.splitext(file_name)[0]+\".xml\", \"wb\") as files:\n",
    "        tree.write(files)\n"
   ]
  },
  {
   "cell_type": "code",
   "execution_count": 16,
   "metadata": {},
   "outputs": [
    {
     "name": "stdout",
     "output_type": "stream",
     "text": [
      "pascalVOC- parser\n"
     ]
    }
   ],
   "source": []
  },
  {
   "cell_type": "code",
   "execution_count": null,
   "metadata": {},
   "outputs": [],
   "source": []
  }
 ],
 "metadata": {
  "interpreter": {
   "hash": "b3ba2566441a7c06988d0923437866b63cedc61552a5af99d1f4fb67d367b25f"
  },
  "kernelspec": {
   "display_name": "Python 3.9.7 ('base')",
   "language": "python",
   "name": "python3"
  },
  "language_info": {
   "codemirror_mode": {
    "name": "ipython",
    "version": 3
   },
   "file_extension": ".py",
   "mimetype": "text/x-python",
   "name": "python",
   "nbconvert_exporter": "python",
   "pygments_lexer": "ipython3",
   "version": "3.9.7"
  },
  "orig_nbformat": 4
 },
 "nbformat": 4,
 "nbformat_minor": 2
}
